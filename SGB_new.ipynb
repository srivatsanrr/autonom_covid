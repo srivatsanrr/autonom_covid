{
  "nbformat": 4,
  "nbformat_minor": 0,
  "metadata": {
    "colab": {
      "name": "new model.ipynb",
      "provenance": [],
      "collapsed_sections": [],
      "mount_file_id": "15cA2R0mVoDm1WuXBWQIHKVbeHuSYJAME",
      "authorship_tag": "ABX9TyMPEhBximyQv4gFuTZC6iR4",
      "include_colab_link": true
    },
    "kernelspec": {
      "name": "python3",
      "display_name": "Python 3"
    },
    "accelerator": "GPU"
  },
  "cells": [
    {
      "cell_type": "markdown",
      "metadata": {
        "id": "view-in-github",
        "colab_type": "text"
      },
      "source": [
        "<a href=\"https://colab.research.google.com/github/srivatsanrr/autonom_covid/blob/master/SGB_new.ipynb\" target=\"_parent\"><img src=\"https://colab.research.google.com/assets/colab-badge.svg\" alt=\"Open In Colab\"/></a>"
      ]
    },
    {
      "cell_type": "code",
      "metadata": {
        "id": "Hwyx44bttE91",
        "colab": {
          "base_uri": "https://localhost:8080/"
        },
        "outputId": "31d86107-2c23-4de1-bc88-f750956d67d5"
      },
      "source": [
        "import pandas as pd\n",
        "import numpy as np\n",
        "import matplotlib.pyplot as plt\n",
        "import seaborn as sns\n",
        "%matplotlib inline\n",
        "from google.colab import drive\n",
        "drive.mount('/content/drive')"
      ],
      "execution_count": 1,
      "outputs": [
        {
          "output_type": "stream",
          "text": [
            "Drive already mounted at /content/drive; to attempt to forcibly remount, call drive.mount(\"/content/drive\", force_remount=True).\n"
          ],
          "name": "stdout"
        }
      ]
    },
    {
      "cell_type": "code",
      "metadata": {
        "id": "NBn-2BoLtg4n"
      },
      "source": [
        "#path='https://docs.google.com/spreadsheets/d/1EdYF-eBrgYydUQQVog_82yogxx09GEmU/edit?usp=drive_web&ouid=105826360531599327533&dls=true'\n",
        "ds = pd.read_excel('/content/drive/My Drive/Colab Notebooks/Train_dataset.xlsx')\n",
        "ds1 = pd.read_excel('/content/drive/My Drive/Colab Notebooks/Test_dataset.xlsx')\n",
        "ds2= pd.read_excel('/content/drive/My Drive/Colab Notebooks/Test_dataset.xlsx')"
      ],
      "execution_count": 2,
      "outputs": []
    },
    {
      "cell_type": "code",
      "metadata": {
        "id": "NVRNx6aMubY8",
        "colab": {
          "base_uri": "https://localhost:8080/"
        },
        "outputId": "77c36067-b3c3-4e25-a429-eaebdfa80db3"
      },
      "source": [
        "ds.shape"
      ],
      "execution_count": 3,
      "outputs": [
        {
          "output_type": "execute_result",
          "data": {
            "text/plain": [
              "(10714, 28)"
            ]
          },
          "metadata": {
            "tags": []
          },
          "execution_count": 3
        }
      ]
    },
    {
      "cell_type": "code",
      "metadata": {
        "id": "L9cQ9P_UPgaq",
        "colab": {
          "base_uri": "https://localhost:8080/"
        },
        "outputId": "b824771b-fcde-4017-a394-af2251cf8145"
      },
      "source": [
        "ds1.shape"
      ],
      "execution_count": 4,
      "outputs": [
        {
          "output_type": "execute_result",
          "data": {
            "text/plain": [
              "(14498, 27)"
            ]
          },
          "metadata": {
            "tags": []
          },
          "execution_count": 4
        }
      ]
    },
    {
      "cell_type": "code",
      "metadata": {
        "id": "cS8VkGOiPieq",
        "colab": {
          "base_uri": "https://localhost:8080/",
          "height": 490
        },
        "outputId": "735e3169-1dad-463e-c864-6a46d916beff"
      },
      "source": [
        "ds.iloc[:,9:]"
      ],
      "execution_count": 5,
      "outputs": [
        {
          "output_type": "execute_result",
          "data": {
            "text/html": [
              "<div>\n",
              "<style scoped>\n",
              "    .dataframe tbody tr th:only-of-type {\n",
              "        vertical-align: middle;\n",
              "    }\n",
              "\n",
              "    .dataframe tbody tr th {\n",
              "        vertical-align: top;\n",
              "    }\n",
              "\n",
              "    .dataframe thead th {\n",
              "        text-align: right;\n",
              "    }\n",
              "</style>\n",
              "<table border=\"1\" class=\"dataframe\">\n",
              "  <thead>\n",
              "    <tr style=\"text-align: right;\">\n",
              "      <th></th>\n",
              "      <th>cases/1M</th>\n",
              "      <th>Deaths/1M</th>\n",
              "      <th>comorbidity</th>\n",
              "      <th>Age</th>\n",
              "      <th>Coma score</th>\n",
              "      <th>Pulmonary score</th>\n",
              "      <th>cardiological pressure</th>\n",
              "      <th>Diuresis</th>\n",
              "      <th>Platelets</th>\n",
              "      <th>HBB</th>\n",
              "      <th>d-dimer</th>\n",
              "      <th>Heart rate</th>\n",
              "      <th>HDL cholesterol</th>\n",
              "      <th>Charlson Index</th>\n",
              "      <th>Blood Glucose</th>\n",
              "      <th>Insurance</th>\n",
              "      <th>salary</th>\n",
              "      <th>FT/month</th>\n",
              "      <th>Infect_Prob</th>\n",
              "    </tr>\n",
              "  </thead>\n",
              "  <tbody>\n",
              "    <tr>\n",
              "      <th>0</th>\n",
              "      <td>2</td>\n",
              "      <td>0</td>\n",
              "      <td>Hypertension</td>\n",
              "      <td>68</td>\n",
              "      <td>8</td>\n",
              "      <td>&lt;400</td>\n",
              "      <td>Normal</td>\n",
              "      <td>441.0</td>\n",
              "      <td>154.0</td>\n",
              "      <td>93.0</td>\n",
              "      <td>233.0</td>\n",
              "      <td>82.0</td>\n",
              "      <td>58.0</td>\n",
              "      <td>27</td>\n",
              "      <td>7</td>\n",
              "      <td>3600000.0</td>\n",
              "      <td>1300000</td>\n",
              "      <td>2.0</td>\n",
              "      <td>49.135010</td>\n",
              "    </tr>\n",
              "    <tr>\n",
              "      <th>1</th>\n",
              "      <td>2</td>\n",
              "      <td>0</td>\n",
              "      <td>Diabetes</td>\n",
              "      <td>64</td>\n",
              "      <td>15</td>\n",
              "      <td>&lt;100</td>\n",
              "      <td>Stage-02</td>\n",
              "      <td>NaN</td>\n",
              "      <td>121.0</td>\n",
              "      <td>56.0</td>\n",
              "      <td>328.0</td>\n",
              "      <td>89.0</td>\n",
              "      <td>68.0</td>\n",
              "      <td>5</td>\n",
              "      <td>6</td>\n",
              "      <td>1600000.0</td>\n",
              "      <td>400000</td>\n",
              "      <td>1.0</td>\n",
              "      <td>51.147880</td>\n",
              "    </tr>\n",
              "    <tr>\n",
              "      <th>2</th>\n",
              "      <td>2</td>\n",
              "      <td>0</td>\n",
              "      <td>None</td>\n",
              "      <td>19</td>\n",
              "      <td>13</td>\n",
              "      <td>&lt;300</td>\n",
              "      <td>Elevated</td>\n",
              "      <td>416.0</td>\n",
              "      <td>124.0</td>\n",
              "      <td>137.0</td>\n",
              "      <td>213.0</td>\n",
              "      <td>77.0</td>\n",
              "      <td>43.0</td>\n",
              "      <td>40</td>\n",
              "      <td>6</td>\n",
              "      <td>3400000.0</td>\n",
              "      <td>900000</td>\n",
              "      <td>1.0</td>\n",
              "      <td>73.224000</td>\n",
              "    </tr>\n",
              "    <tr>\n",
              "      <th>3</th>\n",
              "      <td>2</td>\n",
              "      <td>0</td>\n",
              "      <td>Coronary Heart Disease</td>\n",
              "      <td>33</td>\n",
              "      <td>9</td>\n",
              "      <td>&lt;200</td>\n",
              "      <td>Stage-01</td>\n",
              "      <td>410.0</td>\n",
              "      <td>98.0</td>\n",
              "      <td>167.0</td>\n",
              "      <td>275.0</td>\n",
              "      <td>64.0</td>\n",
              "      <td>60.0</td>\n",
              "      <td>27</td>\n",
              "      <td>7</td>\n",
              "      <td>700000.0</td>\n",
              "      <td>2300000</td>\n",
              "      <td>1.0</td>\n",
              "      <td>48.779225</td>\n",
              "    </tr>\n",
              "    <tr>\n",
              "      <th>4</th>\n",
              "      <td>2</td>\n",
              "      <td>0</td>\n",
              "      <td>Diabetes</td>\n",
              "      <td>23</td>\n",
              "      <td>7</td>\n",
              "      <td>&lt;400</td>\n",
              "      <td>Normal</td>\n",
              "      <td>390.0</td>\n",
              "      <td>21.0</td>\n",
              "      <td>153.0</td>\n",
              "      <td>331.0</td>\n",
              "      <td>71.0</td>\n",
              "      <td>64.0</td>\n",
              "      <td>32</td>\n",
              "      <td>7</td>\n",
              "      <td>3200000.0</td>\n",
              "      <td>1100000</td>\n",
              "      <td>1.0</td>\n",
              "      <td>87.868800</td>\n",
              "    </tr>\n",
              "    <tr>\n",
              "      <th>...</th>\n",
              "      <td>...</td>\n",
              "      <td>...</td>\n",
              "      <td>...</td>\n",
              "      <td>...</td>\n",
              "      <td>...</td>\n",
              "      <td>...</td>\n",
              "      <td>...</td>\n",
              "      <td>...</td>\n",
              "      <td>...</td>\n",
              "      <td>...</td>\n",
              "      <td>...</td>\n",
              "      <td>...</td>\n",
              "      <td>...</td>\n",
              "      <td>...</td>\n",
              "      <td>...</td>\n",
              "      <td>...</td>\n",
              "      <td>...</td>\n",
              "      <td>...</td>\n",
              "      <td>...</td>\n",
              "    </tr>\n",
              "    <tr>\n",
              "      <th>10709</th>\n",
              "      <td>8</td>\n",
              "      <td>2</td>\n",
              "      <td>Diabetes</td>\n",
              "      <td>20</td>\n",
              "      <td>14</td>\n",
              "      <td>&lt;400</td>\n",
              "      <td>Normal</td>\n",
              "      <td>134.0</td>\n",
              "      <td>67.0</td>\n",
              "      <td>24.0</td>\n",
              "      <td>209.0</td>\n",
              "      <td>61.0</td>\n",
              "      <td>56.0</td>\n",
              "      <td>35</td>\n",
              "      <td>7</td>\n",
              "      <td>4000000.0</td>\n",
              "      <td>300000</td>\n",
              "      <td>0.0</td>\n",
              "      <td>41.981760</td>\n",
              "    </tr>\n",
              "    <tr>\n",
              "      <th>10710</th>\n",
              "      <td>8</td>\n",
              "      <td>2</td>\n",
              "      <td>None</td>\n",
              "      <td>42</td>\n",
              "      <td>4</td>\n",
              "      <td>&lt;400</td>\n",
              "      <td>Normal</td>\n",
              "      <td>387.0</td>\n",
              "      <td>102.0</td>\n",
              "      <td>134.0</td>\n",
              "      <td>211.0</td>\n",
              "      <td>65.0</td>\n",
              "      <td>47.0</td>\n",
              "      <td>35</td>\n",
              "      <td>7</td>\n",
              "      <td>1500000.0</td>\n",
              "      <td>700000</td>\n",
              "      <td>NaN</td>\n",
              "      <td>47.148663</td>\n",
              "    </tr>\n",
              "    <tr>\n",
              "      <th>10711</th>\n",
              "      <td>8</td>\n",
              "      <td>2</td>\n",
              "      <td>Diabetes</td>\n",
              "      <td>59</td>\n",
              "      <td>3</td>\n",
              "      <td>&lt;100</td>\n",
              "      <td>Stage-02</td>\n",
              "      <td>177.0</td>\n",
              "      <td>111.0</td>\n",
              "      <td>151.0</td>\n",
              "      <td>296.0</td>\n",
              "      <td>87.0</td>\n",
              "      <td>37.0</td>\n",
              "      <td>16</td>\n",
              "      <td>5</td>\n",
              "      <td>3000000.0</td>\n",
              "      <td>2100000</td>\n",
              "      <td>2.0</td>\n",
              "      <td>47.708533</td>\n",
              "    </tr>\n",
              "    <tr>\n",
              "      <th>10712</th>\n",
              "      <td>8</td>\n",
              "      <td>2</td>\n",
              "      <td>Coronary Heart Disease</td>\n",
              "      <td>49</td>\n",
              "      <td>6</td>\n",
              "      <td>&lt;300</td>\n",
              "      <td>Elevated</td>\n",
              "      <td>352.0</td>\n",
              "      <td>140.0</td>\n",
              "      <td>110.0</td>\n",
              "      <td>253.0</td>\n",
              "      <td>56.0</td>\n",
              "      <td>70.0</td>\n",
              "      <td>28</td>\n",
              "      <td>5</td>\n",
              "      <td>2900000.0</td>\n",
              "      <td>700000</td>\n",
              "      <td>1.0</td>\n",
              "      <td>53.803565</td>\n",
              "    </tr>\n",
              "    <tr>\n",
              "      <th>10713</th>\n",
              "      <td>8</td>\n",
              "      <td>2</td>\n",
              "      <td>Diabetes</td>\n",
              "      <td>17</td>\n",
              "      <td>7</td>\n",
              "      <td>&lt;400</td>\n",
              "      <td>Normal</td>\n",
              "      <td>181.0</td>\n",
              "      <td>65.0</td>\n",
              "      <td>134.0</td>\n",
              "      <td>201.0</td>\n",
              "      <td>82.0</td>\n",
              "      <td>60.0</td>\n",
              "      <td>4</td>\n",
              "      <td>3</td>\n",
              "      <td>2100000.0</td>\n",
              "      <td>1400000</td>\n",
              "      <td>0.0</td>\n",
              "      <td>68.342400</td>\n",
              "    </tr>\n",
              "  </tbody>\n",
              "</table>\n",
              "<p>10714 rows × 19 columns</p>\n",
              "</div>"
            ],
            "text/plain": [
              "       cases/1M  Deaths/1M  ... FT/month  Infect_Prob\n",
              "0             2          0  ...      2.0    49.135010\n",
              "1             2          0  ...      1.0    51.147880\n",
              "2             2          0  ...      1.0    73.224000\n",
              "3             2          0  ...      1.0    48.779225\n",
              "4             2          0  ...      1.0    87.868800\n",
              "...         ...        ...  ...      ...          ...\n",
              "10709         8          2  ...      0.0    41.981760\n",
              "10710         8          2  ...      NaN    47.148663\n",
              "10711         8          2  ...      2.0    47.708533\n",
              "10712         8          2  ...      1.0    53.803565\n",
              "10713         8          2  ...      0.0    68.342400\n",
              "\n",
              "[10714 rows x 19 columns]"
            ]
          },
          "metadata": {
            "tags": []
          },
          "execution_count": 5
        }
      ]
    },
    {
      "cell_type": "code",
      "metadata": {
        "id": "nZCrS-d3Pmgm"
      },
      "source": [
        "# Label Encoding\n",
        "ds[\"Region\"] = ds[\"Region\"].astype('category').cat.codes\n",
        "ds[\"Gender\"] = ds[\"Gender\"].astype('category').cat.codes\n",
        "ds[\"Designation\"] = ds[\"Designation\"].astype('category').cat.codes\n",
        "ds[\"Married\"] = ds[\"Married\"].astype('category').cat.codes\n",
        "ds[\"Mode_transport\"] = ds[\"Mode_transport\"].astype('category').cat.codes\n",
        "ds[\"Occupation\"] = ds[\"Occupation\"].astype('category').cat.codes\n",
        "ds[\"Married\"] = ds[\"Married\"].astype('category').cat.codes\n",
        "ds[\"comorbidity\"] = ds[\"comorbidity\"].astype('category').cat.codes\n",
        "ds[\"Pulmonary score\"] = ds[\"Pulmonary score\"].astype('category').cat.codes\n",
        "ds[\"cardiological pressure\"] = ds[\"cardiological pressure\"].astype('category').cat.codes"
      ],
      "execution_count": 6,
      "outputs": []
    },
    {
      "cell_type": "code",
      "metadata": {
        "id": "7tsQPXI1P5lY"
      },
      "source": [
        "ds=ds.drop([\"Name\",\"Insurance\", \"salary\", \"people_ID\"],  axis=1)"
      ],
      "execution_count": 7,
      "outputs": []
    },
    {
      "cell_type": "code",
      "metadata": {
        "id": "YjUpKe9XTGnH",
        "colab": {
          "base_uri": "https://localhost:8080/"
        },
        "outputId": "763ddeda-96a6-493a-c4cd-d5767139583c"
      },
      "source": [
        "ds.isnull().sum()\n"
      ],
      "execution_count": 8,
      "outputs": [
        {
          "output_type": "execute_result",
          "data": {
            "text/plain": [
              "Region                       0\n",
              "Gender                       0\n",
              "Designation                  0\n",
              "Married                      0\n",
              "Children                   311\n",
              "Occupation                   0\n",
              "Mode_transport               0\n",
              "cases/1M                     0\n",
              "Deaths/1M                    0\n",
              "comorbidity                  0\n",
              "Age                          0\n",
              "Coma score                   0\n",
              "Pulmonary score              0\n",
              "cardiological pressure       0\n",
              "Diuresis                   716\n",
              "Platelets                  924\n",
              "HBB                         16\n",
              "d-dimer                   1114\n",
              "Heart rate                1114\n",
              "HDL cholesterol             35\n",
              "Charlson Index               0\n",
              "Blood Glucose                0\n",
              "FT/month                   723\n",
              "Infect_Prob                  0\n",
              "dtype: int64"
            ]
          },
          "metadata": {
            "tags": []
          },
          "execution_count": 8
        }
      ]
    },
    {
      "cell_type": "code",
      "metadata": {
        "id": "DXYsGsjhTL7p"
      },
      "source": [
        "\n",
        "# Missing value handling using mean and forward fill methods\n",
        "ds['Children']=ds['Children'].fillna(int(np.mean(ds['Children'])))\n",
        "ds['Diuresis']=ds['Diuresis'].fillna(int(np.mean(ds['Diuresis'])))\n",
        "ds['d-dimer']=ds['d-dimer'].fillna(int(np.mean(ds['d-dimer'])))\n",
        "ds['Heart rate']=ds['Heart rate'].fillna(int(np.mean(ds['Heart rate'])))\n",
        "ds['Platelets']=ds['Platelets'].fillna(int(np.mean(ds['Platelets'])))\n",
        "ds['HDL cholesterol']=ds['HDL cholesterol'].fillna(int(np.mean(ds['HDL cholesterol'])))\n",
        "ds['HBB']=ds['HBB'].fillna(int(np.mean(ds['HBB'])))\n",
        "ds['FT/month']=ds['FT/month'].fillna(int(np.mean(ds['FT/month'])))\n",
        "ds['comorbidity'].fillna('ffill', inplace=True)\n",
        "ds['cardiological pressure'].fillna('ffill', inplace=True)"
      ],
      "execution_count": 9,
      "outputs": []
    },
    {
      "cell_type": "code",
      "metadata": {
        "id": "ms4F_w-3T3zc"
      },
      "source": [
        "y_train= ds.iloc[:,-1]\n",
        "x_train= ds.iloc[:,9:].drop([\"Infect_Prob\"], axis=1)"
      ],
      "execution_count": 10,
      "outputs": []
    },
    {
      "cell_type": "code",
      "metadata": {
        "id": "IHz-sSXDS-C_"
      },
      "source": [
        "from sklearn import preprocessing\n",
        "sclr = preprocessing.StandardScaler()\n",
        "x_scaled = sclr.fit_transform(x_train)\n",
        "dat_x_train = pd.DataFrame(x_scaled)\n"
      ],
      "execution_count": 11,
      "outputs": []
    },
    {
      "cell_type": "code",
      "metadata": {
        "id": "fhi1rXKmXOSa",
        "colab": {
          "base_uri": "https://localhost:8080/"
        },
        "outputId": "3032b150-7f41-4eaa-d1a5-5808faf6b57f"
      },
      "source": [
        "y_train"
      ],
      "execution_count": 12,
      "outputs": [
        {
          "output_type": "execute_result",
          "data": {
            "text/plain": [
              "0        49.135010\n",
              "1        51.147880\n",
              "2        73.224000\n",
              "3        48.779225\n",
              "4        87.868800\n",
              "           ...    \n",
              "10709    41.981760\n",
              "10710    47.148663\n",
              "10711    47.708533\n",
              "10712    53.803565\n",
              "10713    68.342400\n",
              "Name: Infect_Prob, Length: 10714, dtype: float64"
            ]
          },
          "metadata": {
            "tags": []
          },
          "execution_count": 12
        }
      ]
    },
    {
      "cell_type": "code",
      "metadata": {
        "id": "DK8RrVbxRrkT",
        "colab": {
          "base_uri": "https://localhost:8080/",
          "height": 456
        },
        "outputId": "41c5651c-91f4-4f10-e80d-d1b49aafeb67"
      },
      "source": [
        "\n",
        "y_train.values\n",
        "criteria = [y_train.between(0, 33), y_train.between(33, 66), y_train.between(66, 100)]\n",
        "values = ['Low', 'Mid', 'High']\n",
        "y_categories = np.select(criteria, values, 0)\n",
        "ds['y_category']=y_categories\n",
        "ds['y_category']=ds['y_category'].astype('category').cat.codes\n",
        "ds"
      ],
      "execution_count": 13,
      "outputs": [
        {
          "output_type": "execute_result",
          "data": {
            "text/html": [
              "<div>\n",
              "<style scoped>\n",
              "    .dataframe tbody tr th:only-of-type {\n",
              "        vertical-align: middle;\n",
              "    }\n",
              "\n",
              "    .dataframe tbody tr th {\n",
              "        vertical-align: top;\n",
              "    }\n",
              "\n",
              "    .dataframe thead th {\n",
              "        text-align: right;\n",
              "    }\n",
              "</style>\n",
              "<table border=\"1\" class=\"dataframe\">\n",
              "  <thead>\n",
              "    <tr style=\"text-align: right;\">\n",
              "      <th></th>\n",
              "      <th>Region</th>\n",
              "      <th>Gender</th>\n",
              "      <th>Designation</th>\n",
              "      <th>Married</th>\n",
              "      <th>Children</th>\n",
              "      <th>Occupation</th>\n",
              "      <th>Mode_transport</th>\n",
              "      <th>cases/1M</th>\n",
              "      <th>Deaths/1M</th>\n",
              "      <th>comorbidity</th>\n",
              "      <th>Age</th>\n",
              "      <th>Coma score</th>\n",
              "      <th>Pulmonary score</th>\n",
              "      <th>cardiological pressure</th>\n",
              "      <th>Diuresis</th>\n",
              "      <th>Platelets</th>\n",
              "      <th>HBB</th>\n",
              "      <th>d-dimer</th>\n",
              "      <th>Heart rate</th>\n",
              "      <th>HDL cholesterol</th>\n",
              "      <th>Charlson Index</th>\n",
              "      <th>Blood Glucose</th>\n",
              "      <th>FT/month</th>\n",
              "      <th>Infect_Prob</th>\n",
              "      <th>y_category</th>\n",
              "    </tr>\n",
              "  </thead>\n",
              "  <tbody>\n",
              "    <tr>\n",
              "      <th>0</th>\n",
              "      <td>1</td>\n",
              "      <td>0</td>\n",
              "      <td>1</td>\n",
              "      <td>1</td>\n",
              "      <td>1.0</td>\n",
              "      <td>4</td>\n",
              "      <td>1</td>\n",
              "      <td>2</td>\n",
              "      <td>0</td>\n",
              "      <td>2</td>\n",
              "      <td>68</td>\n",
              "      <td>8</td>\n",
              "      <td>3</td>\n",
              "      <td>1</td>\n",
              "      <td>441.0</td>\n",
              "      <td>154.0</td>\n",
              "      <td>93.0</td>\n",
              "      <td>233.0</td>\n",
              "      <td>82.0</td>\n",
              "      <td>58.0</td>\n",
              "      <td>27</td>\n",
              "      <td>7</td>\n",
              "      <td>2.0</td>\n",
              "      <td>49.135010</td>\n",
              "      <td>2</td>\n",
              "    </tr>\n",
              "    <tr>\n",
              "      <th>1</th>\n",
              "      <td>1</td>\n",
              "      <td>0</td>\n",
              "      <td>1</td>\n",
              "      <td>1</td>\n",
              "      <td>2.0</td>\n",
              "      <td>4</td>\n",
              "      <td>2</td>\n",
              "      <td>2</td>\n",
              "      <td>0</td>\n",
              "      <td>1</td>\n",
              "      <td>64</td>\n",
              "      <td>15</td>\n",
              "      <td>0</td>\n",
              "      <td>3</td>\n",
              "      <td>278.0</td>\n",
              "      <td>121.0</td>\n",
              "      <td>56.0</td>\n",
              "      <td>328.0</td>\n",
              "      <td>89.0</td>\n",
              "      <td>68.0</td>\n",
              "      <td>5</td>\n",
              "      <td>6</td>\n",
              "      <td>1.0</td>\n",
              "      <td>51.147880</td>\n",
              "      <td>2</td>\n",
              "    </tr>\n",
              "    <tr>\n",
              "      <th>2</th>\n",
              "      <td>1</td>\n",
              "      <td>0</td>\n",
              "      <td>1</td>\n",
              "      <td>0</td>\n",
              "      <td>1.0</td>\n",
              "      <td>1</td>\n",
              "      <td>1</td>\n",
              "      <td>2</td>\n",
              "      <td>0</td>\n",
              "      <td>3</td>\n",
              "      <td>19</td>\n",
              "      <td>13</td>\n",
              "      <td>2</td>\n",
              "      <td>0</td>\n",
              "      <td>416.0</td>\n",
              "      <td>124.0</td>\n",
              "      <td>137.0</td>\n",
              "      <td>213.0</td>\n",
              "      <td>77.0</td>\n",
              "      <td>43.0</td>\n",
              "      <td>40</td>\n",
              "      <td>6</td>\n",
              "      <td>1.0</td>\n",
              "      <td>73.224000</td>\n",
              "      <td>0</td>\n",
              "    </tr>\n",
              "    <tr>\n",
              "      <th>3</th>\n",
              "      <td>1</td>\n",
              "      <td>0</td>\n",
              "      <td>1</td>\n",
              "      <td>1</td>\n",
              "      <td>1.0</td>\n",
              "      <td>3</td>\n",
              "      <td>0</td>\n",
              "      <td>2</td>\n",
              "      <td>0</td>\n",
              "      <td>0</td>\n",
              "      <td>33</td>\n",
              "      <td>9</td>\n",
              "      <td>1</td>\n",
              "      <td>2</td>\n",
              "      <td>410.0</td>\n",
              "      <td>98.0</td>\n",
              "      <td>167.0</td>\n",
              "      <td>275.0</td>\n",
              "      <td>64.0</td>\n",
              "      <td>60.0</td>\n",
              "      <td>27</td>\n",
              "      <td>7</td>\n",
              "      <td>1.0</td>\n",
              "      <td>48.779225</td>\n",
              "      <td>2</td>\n",
              "    </tr>\n",
              "    <tr>\n",
              "      <th>4</th>\n",
              "      <td>1</td>\n",
              "      <td>0</td>\n",
              "      <td>1</td>\n",
              "      <td>0</td>\n",
              "      <td>2.0</td>\n",
              "      <td>6</td>\n",
              "      <td>0</td>\n",
              "      <td>2</td>\n",
              "      <td>0</td>\n",
              "      <td>1</td>\n",
              "      <td>23</td>\n",
              "      <td>7</td>\n",
              "      <td>3</td>\n",
              "      <td>1</td>\n",
              "      <td>390.0</td>\n",
              "      <td>21.0</td>\n",
              "      <td>153.0</td>\n",
              "      <td>331.0</td>\n",
              "      <td>71.0</td>\n",
              "      <td>64.0</td>\n",
              "      <td>32</td>\n",
              "      <td>7</td>\n",
              "      <td>1.0</td>\n",
              "      <td>87.868800</td>\n",
              "      <td>0</td>\n",
              "    </tr>\n",
              "    <tr>\n",
              "      <th>...</th>\n",
              "      <td>...</td>\n",
              "      <td>...</td>\n",
              "      <td>...</td>\n",
              "      <td>...</td>\n",
              "      <td>...</td>\n",
              "      <td>...</td>\n",
              "      <td>...</td>\n",
              "      <td>...</td>\n",
              "      <td>...</td>\n",
              "      <td>...</td>\n",
              "      <td>...</td>\n",
              "      <td>...</td>\n",
              "      <td>...</td>\n",
              "      <td>...</td>\n",
              "      <td>...</td>\n",
              "      <td>...</td>\n",
              "      <td>...</td>\n",
              "      <td>...</td>\n",
              "      <td>...</td>\n",
              "      <td>...</td>\n",
              "      <td>...</td>\n",
              "      <td>...</td>\n",
              "      <td>...</td>\n",
              "      <td>...</td>\n",
              "      <td>...</td>\n",
              "    </tr>\n",
              "    <tr>\n",
              "      <th>10709</th>\n",
              "      <td>0</td>\n",
              "      <td>1</td>\n",
              "      <td>0</td>\n",
              "      <td>0</td>\n",
              "      <td>2.0</td>\n",
              "      <td>0</td>\n",
              "      <td>0</td>\n",
              "      <td>8</td>\n",
              "      <td>2</td>\n",
              "      <td>1</td>\n",
              "      <td>20</td>\n",
              "      <td>14</td>\n",
              "      <td>3</td>\n",
              "      <td>1</td>\n",
              "      <td>134.0</td>\n",
              "      <td>67.0</td>\n",
              "      <td>24.0</td>\n",
              "      <td>209.0</td>\n",
              "      <td>61.0</td>\n",
              "      <td>56.0</td>\n",
              "      <td>35</td>\n",
              "      <td>7</td>\n",
              "      <td>0.0</td>\n",
              "      <td>41.981760</td>\n",
              "      <td>2</td>\n",
              "    </tr>\n",
              "    <tr>\n",
              "      <th>10710</th>\n",
              "      <td>0</td>\n",
              "      <td>1</td>\n",
              "      <td>0</td>\n",
              "      <td>1</td>\n",
              "      <td>0.0</td>\n",
              "      <td>6</td>\n",
              "      <td>0</td>\n",
              "      <td>8</td>\n",
              "      <td>2</td>\n",
              "      <td>3</td>\n",
              "      <td>42</td>\n",
              "      <td>4</td>\n",
              "      <td>3</td>\n",
              "      <td>1</td>\n",
              "      <td>387.0</td>\n",
              "      <td>102.0</td>\n",
              "      <td>134.0</td>\n",
              "      <td>211.0</td>\n",
              "      <td>65.0</td>\n",
              "      <td>47.0</td>\n",
              "      <td>35</td>\n",
              "      <td>7</td>\n",
              "      <td>1.0</td>\n",
              "      <td>47.148663</td>\n",
              "      <td>2</td>\n",
              "    </tr>\n",
              "    <tr>\n",
              "      <th>10711</th>\n",
              "      <td>0</td>\n",
              "      <td>1</td>\n",
              "      <td>0</td>\n",
              "      <td>1</td>\n",
              "      <td>0.0</td>\n",
              "      <td>2</td>\n",
              "      <td>1</td>\n",
              "      <td>8</td>\n",
              "      <td>2</td>\n",
              "      <td>1</td>\n",
              "      <td>59</td>\n",
              "      <td>3</td>\n",
              "      <td>0</td>\n",
              "      <td>3</td>\n",
              "      <td>177.0</td>\n",
              "      <td>111.0</td>\n",
              "      <td>151.0</td>\n",
              "      <td>296.0</td>\n",
              "      <td>87.0</td>\n",
              "      <td>37.0</td>\n",
              "      <td>16</td>\n",
              "      <td>5</td>\n",
              "      <td>2.0</td>\n",
              "      <td>47.708533</td>\n",
              "      <td>2</td>\n",
              "    </tr>\n",
              "    <tr>\n",
              "      <th>10712</th>\n",
              "      <td>0</td>\n",
              "      <td>1</td>\n",
              "      <td>0</td>\n",
              "      <td>1</td>\n",
              "      <td>1.0</td>\n",
              "      <td>5</td>\n",
              "      <td>2</td>\n",
              "      <td>8</td>\n",
              "      <td>2</td>\n",
              "      <td>0</td>\n",
              "      <td>49</td>\n",
              "      <td>6</td>\n",
              "      <td>2</td>\n",
              "      <td>0</td>\n",
              "      <td>352.0</td>\n",
              "      <td>140.0</td>\n",
              "      <td>110.0</td>\n",
              "      <td>253.0</td>\n",
              "      <td>56.0</td>\n",
              "      <td>70.0</td>\n",
              "      <td>28</td>\n",
              "      <td>5</td>\n",
              "      <td>1.0</td>\n",
              "      <td>53.803565</td>\n",
              "      <td>2</td>\n",
              "    </tr>\n",
              "    <tr>\n",
              "      <th>10713</th>\n",
              "      <td>0</td>\n",
              "      <td>1</td>\n",
              "      <td>0</td>\n",
              "      <td>0</td>\n",
              "      <td>2.0</td>\n",
              "      <td>0</td>\n",
              "      <td>0</td>\n",
              "      <td>8</td>\n",
              "      <td>2</td>\n",
              "      <td>1</td>\n",
              "      <td>17</td>\n",
              "      <td>7</td>\n",
              "      <td>3</td>\n",
              "      <td>1</td>\n",
              "      <td>181.0</td>\n",
              "      <td>65.0</td>\n",
              "      <td>134.0</td>\n",
              "      <td>201.0</td>\n",
              "      <td>82.0</td>\n",
              "      <td>60.0</td>\n",
              "      <td>4</td>\n",
              "      <td>3</td>\n",
              "      <td>0.0</td>\n",
              "      <td>68.342400</td>\n",
              "      <td>0</td>\n",
              "    </tr>\n",
              "  </tbody>\n",
              "</table>\n",
              "<p>10714 rows × 25 columns</p>\n",
              "</div>"
            ],
            "text/plain": [
              "       Region  Gender  Designation  ...  FT/month  Infect_Prob  y_category\n",
              "0           1       0            1  ...       2.0    49.135010           2\n",
              "1           1       0            1  ...       1.0    51.147880           2\n",
              "2           1       0            1  ...       1.0    73.224000           0\n",
              "3           1       0            1  ...       1.0    48.779225           2\n",
              "4           1       0            1  ...       1.0    87.868800           0\n",
              "...       ...     ...          ...  ...       ...          ...         ...\n",
              "10709       0       1            0  ...       0.0    41.981760           2\n",
              "10710       0       1            0  ...       1.0    47.148663           2\n",
              "10711       0       1            0  ...       2.0    47.708533           2\n",
              "10712       0       1            0  ...       1.0    53.803565           2\n",
              "10713       0       1            0  ...       0.0    68.342400           0\n",
              "\n",
              "[10714 rows x 25 columns]"
            ]
          },
          "metadata": {
            "tags": []
          },
          "execution_count": 13
        }
      ]
    },
    {
      "cell_type": "code",
      "metadata": {
        "id": "TrkwPOmqoz0C"
      },
      "source": [
        "import pandas as pd\n",
        "from xgboost import XGBClassifier\n",
        "from sklearn.metrics import accuracy_score"
      ],
      "execution_count": 14,
      "outputs": []
    },
    {
      "cell_type": "code",
      "metadata": {
        "id": "JULmNJYRYG2H",
        "colab": {
          "base_uri": "https://localhost:8080/"
        },
        "outputId": "83bdee49-9c62-4e69-a1ff-4c4b49b54054"
      },
      "source": [
        "x=x_train\n",
        "y= ds.iloc[:,-1].values\n",
        "print(x)\n",
        "print(y)"
      ],
      "execution_count": 24,
      "outputs": [
        {
          "output_type": "stream",
          "text": [
            "       comorbidity  Age  Coma score  ...  Charlson Index  Blood Glucose  FT/month\n",
            "0                2   68           8  ...              27              7       2.0\n",
            "1                1   64          15  ...               5              6       1.0\n",
            "2                3   19          13  ...              40              6       1.0\n",
            "3                0   33           9  ...              27              7       1.0\n",
            "4                1   23           7  ...              32              7       1.0\n",
            "...            ...  ...         ...  ...             ...            ...       ...\n",
            "10709            1   20          14  ...              35              7       0.0\n",
            "10710            3   42           4  ...              35              7       1.0\n",
            "10711            1   59           3  ...              16              5       2.0\n",
            "10712            0   49           6  ...              28              5       1.0\n",
            "10713            1   17           7  ...               4              3       0.0\n",
            "\n",
            "[10714 rows x 14 columns]\n",
            "[2 2 0 ... 2 2 0]\n"
          ],
          "name": "stdout"
        }
      ]
    },
    {
      "cell_type": "code",
      "metadata": {
        "id": "wUR45n41o1HF",
        "colab": {
          "base_uri": "https://localhost:8080/"
        },
        "outputId": "09c19531-00ab-44fc-e9fd-190d48f24faa"
      },
      "source": [
        "from sklearn.model_selection import train_test_split\n",
        "X_train, X_test, Y_train, Y_test = train_test_split(x,y,test_size=0.20, random_state=101)\n",
        "X_train=X_train\n",
        "Y_train=Y_train.reshape(-1, 1)\n",
        "print(X_train.shape)\n"
      ],
      "execution_count": 25,
      "outputs": [
        {
          "output_type": "stream",
          "text": [
            "(8571, 14)\n"
          ],
          "name": "stdout"
        }
      ]
    },
    {
      "cell_type": "code",
      "metadata": {
        "colab": {
          "base_uri": "https://localhost:8080/"
        },
        "id": "69oJHDT3Vo8T",
        "outputId": "9e71497a-716d-4d0f-c02e-31a3893b95d0"
      },
      "source": [
        "Y_train"
      ],
      "execution_count": 26,
      "outputs": [
        {
          "output_type": "execute_result",
          "data": {
            "text/plain": [
              "array([[2],\n",
              "       [2],\n",
              "       [2],\n",
              "       ...,\n",
              "       [0],\n",
              "       [2],\n",
              "       [2]], dtype=int8)"
            ]
          },
          "metadata": {
            "tags": []
          },
          "execution_count": 26
        }
      ]
    },
    {
      "cell_type": "code",
      "metadata": {
        "id": "pv1XeH2CbwUG"
      },
      "source": [
        "xgb_param = {'max_depth':5, 'objective':'binary:logistic', 'subsample':0.8, \n",
        "         'colsample_bytree':0.8, 'learning_rate':0.5, 'min_child_weight':1,\n",
        "         'tree_method':'gpu_hist'}\n",
        "model = XGBClassifier(**xgb_param)"
      ],
      "execution_count": 27,
      "outputs": []
    },
    {
      "cell_type": "code",
      "metadata": {
        "id": "CVDcsoZ4b1j6",
        "colab": {
          "base_uri": "https://localhost:8080/"
        },
        "outputId": "38d118e6-d6b5-48b9-efad-7cfb05449569"
      },
      "source": [
        "model.fit(X_train,Y_train)"
      ],
      "execution_count": 28,
      "outputs": [
        {
          "output_type": "stream",
          "text": [
            "/usr/local/lib/python3.6/dist-packages/sklearn/preprocessing/_label.py:235: DataConversionWarning: A column-vector y was passed when a 1d array was expected. Please change the shape of y to (n_samples, ), for example using ravel().\n",
            "  y = column_or_1d(y, warn=True)\n",
            "/usr/local/lib/python3.6/dist-packages/sklearn/preprocessing/_label.py:268: DataConversionWarning: A column-vector y was passed when a 1d array was expected. Please change the shape of y to (n_samples, ), for example using ravel().\n",
            "  y = column_or_1d(y, warn=True)\n"
          ],
          "name": "stderr"
        },
        {
          "output_type": "execute_result",
          "data": {
            "text/plain": [
              "XGBClassifier(base_score=0.5, booster='gbtree', colsample_bylevel=1,\n",
              "              colsample_bynode=1, colsample_bytree=0.8, gamma=0,\n",
              "              learning_rate=0.5, max_delta_step=0, max_depth=5,\n",
              "              min_child_weight=1, missing=None, n_estimators=100, n_jobs=1,\n",
              "              nthread=None, objective='multi:softprob', random_state=0,\n",
              "              reg_alpha=0, reg_lambda=1, scale_pos_weight=1, seed=None,\n",
              "              silent=None, subsample=0.8, tree_method='gpu_hist', verbosity=1)"
            ]
          },
          "metadata": {
            "tags": []
          },
          "execution_count": 28
        }
      ]
    },
    {
      "cell_type": "code",
      "metadata": {
        "id": "o2r-iSWFqGze"
      },
      "source": [
        "pred= model.predict(X_test)\n",
        "\n",
        "from sklearn.metrics import accuracy_score\n",
        "accuracy = accuracy_score(pred, Y_test.reshape(-1,1))\n"
      ],
      "execution_count": 29,
      "outputs": []
    },
    {
      "cell_type": "code",
      "metadata": {
        "colab": {
          "base_uri": "https://localhost:8080/"
        },
        "id": "FtfP-zZsWkrf",
        "outputId": "def87403-08cb-492c-e31e-030053230d17"
      },
      "source": [
        "accuracy"
      ],
      "execution_count": 33,
      "outputs": [
        {
          "output_type": "execute_result",
          "data": {
            "text/plain": [
              "0.894540363975735"
            ]
          },
          "metadata": {
            "tags": []
          },
          "execution_count": 33
        }
      ]
    },
    {
      "cell_type": "code",
      "metadata": {
        "id": "CEW8ToH2rFAd",
        "colab": {
          "base_uri": "https://localhost:8080/",
          "height": 295
        },
        "outputId": "0b34e895-99fe-4d2c-f962-73717d8c6101"
      },
      "source": [
        "from sklearn.metrics import plot_confusion_matrix\n",
        "display = plot_confusion_matrix(model, X_test, Y_test.reshape(-1,1),display_labels=['High','Low','Mid'],cmap=plt.cm.Blues, normalize='true')\n",
        "display.ax_.set_title(\"Confusion Matrix\")\n",
        "plt.show()\n"
      ],
      "execution_count": 34,
      "outputs": [
        {
          "output_type": "display_data",
          "data": {
            "image/png": "[encoded data removed]",
            "text/plain": [
              "<Figure size 432x288 with 2 Axes>"
            ]
          },
          "metadata": {
            "tags": [],
            "needs_background": "light"
          }
        }
      ]
    },
    {
      "cell_type": "code",
      "metadata": {
        "id": "8OE2jtCDxVpn",
        "colab": {
          "base_uri": "https://localhost:8080/"
        },
        "outputId": "db236742-9b8c-4029-85fb-6d314500c572"
      },
      "source": [
        "from sklearn.externals import joblib\n",
        "joblib.dump(model, 'model_SGB.pkl')"
      ],
      "execution_count": 35,
      "outputs": [
        {
          "output_type": "execute_result",
          "data": {
            "text/plain": [
              "['model_SGB.pkl']"
            ]
          },
          "metadata": {
            "tags": []
          },
          "execution_count": 35
        }
      ]
    },
    {
      "cell_type": "code",
      "metadata": {
        "id": "TqSW4GjBxj9B"
      },
      "source": [
        ""
      ],
      "execution_count": null,
      "outputs": []
    }
  ]
}